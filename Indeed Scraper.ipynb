{
 "cells": [
  {
   "cell_type": "code",
   "execution_count": 2,
   "id": "fff95ca3-6289-4025-87e6-599d935f04b2",
   "metadata": {},
   "outputs": [],
   "source": [
    "import requests\n",
    "import json\n",
    "import numpy as np\n",
    "import pandas as pd\n",
    "import math\n",
    "from bs4 import BeautifulSoup\n",
    "from urllib.request import urlopen\n",
    "from selenium import webdriver\n",
    "from selenium.webdriver.common.by import By\n",
    "from selenium.webdriver.support.wait import WebDriverWait\n",
    "from selenium.webdriver.support import expected_conditions as EC"
   ]
  },
  {
   "cell_type": "code",
   "execution_count": 3,
   "id": "d79e0ac8-4cbd-4a03-8d09-804c3b28cfd0",
   "metadata": {},
   "outputs": [
    {
     "name": "stdout",
     "output_type": "stream",
     "text": [
      "https://sg.indeed.com/jobs?q=data+analyst&l=Singapore&radius=10&sort=date&start=00\n"
     ]
    }
   ],
   "source": [
    "def indeedSearchUrl(pageInput,searchPeriod=0):\n",
    "    if searchPeriod ==0:\n",
    "        return 'https://sg.indeed.com/jobs?q=data+analyst&l=Singapore&radius=10&sort=date&start={0}0'.format(pageInput)\n",
    "    else:\n",
    "        return 'https://sg.indeed.com/jobs?q=data+analyst&l=Singapore&radius=10&sort=date&fromage={0}&start={1}0'.format(searchPeriod,pageInput)\n",
    "print(indeedSearchUrl(0))"
   ]
  },
  {
   "cell_type": "code",
   "execution_count": 4,
   "id": "049735df-4aae-48fc-8e6f-d8e597a1310e",
   "metadata": {},
   "outputs": [],
   "source": [
    "def getPages(indeedUrl):\n",
    "    driver.get(indeedUrl)\n",
    "    totalJobs = WebDriverWait(driver, 20).until(\n",
    "                    EC.presence_of_element_located((By.CLASS_NAME, 'jobsearch-JobCountAndSortPane-jobCount'))\n",
    "                ).text.replace(' jobs','').replace(',','')\n",
    "    pages= math.ceil(int(totalJobs)/15)\n",
    "    print(str(pages)+' pages')\n",
    "    return pages"
   ]
  },
  {
   "cell_type": "markdown",
   "id": "fb28cb99-7808-4fda-9231-62e8c2d57896",
   "metadata": {},
   "source": [
    "### Check JD for each job element"
   ]
  },
  {
   "cell_type": "code",
   "execution_count": 5,
   "id": "a10c151e-8f81-4b77-8c48-86463243a48f",
   "metadata": {
    "tags": []
   },
   "outputs": [],
   "source": [
    "def scrapePage(indeedUrl):\n",
    "    driver.get(indeedUrl)\n",
    "    # Get Each Job Element \n",
    "    jobElements= WebDriverWait(driver, 30).until(\n",
    "                    EC.presence_of_element_located((By.CLASS_NAME, 'jobsearch-ResultsList'))\n",
    "                ).find_elements(By.TAG_NAME, \"h2\")\n",
    "    resultList = []\n",
    "    for job in jobElements:\n",
    "        # Get Job title\n",
    "        title=job.text.replace('\\n- job post', \"\").lower()\n",
    "        titleFilter= ['intern','internship','senior','manager','lead','executive','director','research']\n",
    "        if not any(substring in title for substring in titleFilter):     \n",
    "            driver.implicitly_wait(10)\n",
    "            # Get Link\n",
    "            link=job.find_element(By.TAG_NAME, \"a\").get_attribute(\"href\")\n",
    "        \n",
    "            # Open Job Details\n",
    "            job.click()\n",
    "            JD = WebDriverWait(driver, 30).until(\n",
    "            EC.presence_of_element_located((By.CLASS_NAME, 'jobsearch-ViewJobLayout-jobDisplay'))\n",
    "                )\n",
    "            # Check if from CareersFuture and skip\n",
    "            jobSource=JD.find_element(By.CLASS_NAME, \"jobsearch-JobMetadataFooter\").text.replace('Report job','').strip()\n",
    "\n",
    "            if jobSource!='MyCareersFuture.SG':\n",
    "                JD_header= JD.find_element(By.CLASS_NAME, \"jobsearch-JobComponent-embeddedHeader\")\n",
    "                JD_body= JD.find_element(By.CLASS_NAME, \"jobsearch-JobComponent-embeddedBody\")\n",
    "\n",
    "\n",
    "                # Get Company\n",
    "                company=JD_header.find_element(By.CSS_SELECTOR, \"div[data-company-name='true']\").text\n",
    "\n",
    "                # Get Employment Type\n",
    "                try:\n",
    "                    salaryInfoAndJobType=JD_header.find_element(By.ID, \"salaryInfoAndJobType\")\n",
    "                    try:\n",
    "                        Etype = salaryInfoAndJobType.find_element(By.CLASS_NAME, \"jobsearch-JobMetadataHeader-item\").text\n",
    "                    except:\n",
    "                        Etype= 'N/A'\n",
    "                    # Get Salary   \n",
    "                    try:\n",
    "                        salary= salaryInfoAndJobType.find_element(By.CLASS_NAME, \"css-2iqe2o\").text\n",
    "                    except:\n",
    "                        salary= 'N/A'\n",
    "                except:\n",
    "                    Etype= 'N/A'\n",
    "                    salary= 'N/A'\n",
    "\n",
    "                # Get Post Date\n",
    "                postDate=JD_body.find_element(By.CLASS_NAME, \"css-659xjq\").text\n",
    "\n",
    "                # Get Job Description\n",
    "                jobDescriptionText=JD_body.find_element(By.ID, \"jobDescriptionText\").text  \n",
    "\n",
    "                resultList.append([title,Etype,link,company,salary,postDate,jobDescriptionText])\n",
    "\n",
    "    return resultList"
   ]
  },
  {
   "cell_type": "code",
   "execution_count": 6,
   "id": "4de90140-7409-4066-a0bc-554708f0730a",
   "metadata": {},
   "outputs": [],
   "source": [
    "driver = webdriver.Chrome('/Program Files (x86)/chromedriver')"
   ]
  },
  {
   "cell_type": "code",
   "execution_count": 9,
   "id": "b4f3b077-fb3e-40bb-bacf-4a40394cdd3f",
   "metadata": {
    "tags": []
   },
   "outputs": [
    {
     "name": "stdout",
     "output_type": "stream",
     "text": [
      "https://sg.indeed.com/jobs?q=data+analyst&l=Singapore&radius=10&sort=date&fromage=1&start=00\n",
      "4 pages\n",
      "0\n",
      "1\n",
      "2\n",
      "3\n"
     ]
    }
   ],
   "source": [
    "\n",
    "searchPeriod=1\n",
    "indeedUrl=indeedSearchUrl(0,searchPeriod)\n",
    "print(indeedUrl)\n",
    "pages=getPages(indeedUrl)\n",
    " \n",
    "resultsList=[]\n",
    "for i in range(pages):\n",
    "    print(i)\n",
    "    driver.implicitly_wait(10)\n",
    "    resultsList.extend(scrapePage(indeedSearchUrl(i,searchPeriod)))\n",
    "    "
   ]
  },
  {
   "cell_type": "code",
   "execution_count": 10,
   "id": "2b7d766a-2064-4e97-b600-13fddada108d",
   "metadata": {},
   "outputs": [],
   "source": [
    "resultNP=np.asarray(resultsList)"
   ]
  },
  {
   "cell_type": "code",
   "execution_count": 11,
   "id": "36a22ab6-0451-4996-967a-a11a56583feb",
   "metadata": {
    "tags": []
   },
   "outputs": [],
   "source": [
    "df = pd.DataFrame(resultNP, columns = ['title','Etype','link','company','salary','postDate','jobDescriptionText'])"
   ]
  },
  {
   "cell_type": "code",
   "execution_count": 12,
   "id": "a5e80c8c-da1c-47aa-91e6-0d9892c9e7c1",
   "metadata": {
    "tags": []
   },
   "outputs": [],
   "source": [
    "df2=df[df['Etype'].str.contains('Full-time|Permanent')]\n",
    "df2=df2[df2['postDate'] != 'Posted 30+ days ago']\n",
    "df2=df2.drop_duplicates(subset=['title','company'], keep='last')"
   ]
  },
  {
   "cell_type": "code",
   "execution_count": 13,
   "id": "1d3abd43-375b-453a-aa5f-2b392ba6011f",
   "metadata": {},
   "outputs": [
    {
     "name": "stdout",
     "output_type": "stream",
     "text": [
      "8\n"
     ]
    },
    {
     "data": {
      "text/html": [
       "<div>\n",
       "<style scoped>\n",
       "    .dataframe tbody tr th:only-of-type {\n",
       "        vertical-align: middle;\n",
       "    }\n",
       "\n",
       "    .dataframe tbody tr th {\n",
       "        vertical-align: top;\n",
       "    }\n",
       "\n",
       "    .dataframe thead th {\n",
       "        text-align: right;\n",
       "    }\n",
       "</style>\n",
       "<table border=\"1\" class=\"dataframe\">\n",
       "  <thead>\n",
       "    <tr style=\"text-align: right;\">\n",
       "      <th></th>\n",
       "      <th>title</th>\n",
       "      <th>Etype</th>\n",
       "      <th>company</th>\n",
       "      <th>salary</th>\n",
       "      <th>postDate</th>\n",
       "      <th>jobDescriptionText</th>\n",
       "      <th>link</th>\n",
       "    </tr>\n",
       "  </thead>\n",
       "  <tbody>\n",
       "    <tr>\n",
       "      <th>0</th>\n",
       "      <td>financial analyst (saas)</td>\n",
       "      <td>- Permanent</td>\n",
       "      <td>Snaphunt Pte Ltd</td>\n",
       "      <td>$2,000 - $4,000 a month</td>\n",
       "      <td>Posted today</td>\n",
       "      <td>Company\\nSnaphunt Pte Ltd\\nsnaphunt.com\\nDesignation\\nFinancial Analyst (SaaS)\\nDate Listed\\n07 Mar 2023\\nJob Type\\nEntry Level / Junior Executive\\nFull/Perm\\nJob Period\\nImmediate Start, Permanent\\nProfession\\nAccounting / Auditing / Taxation\\nIndustry\\nComputer and IT\\nLocation Name\\nSingapore\\nAllowance / Remuneration\\n$2,000 - 4,000 monthly\\nCompany Profile\\nSnaphunt is shaping how global employers hire in the new world of remote work. With Snaphunt, employers can easily build global teams by finding, engaging &amp; hiring the best talent for their business- anywhere in the world.\\nWe have over 14,000 employers and 3 million professionals on our platform and are backed by top venture capitalists. We operate via a fully remote/distributed international team and are looking to hire ambitious, independent problem solvers across multiple functions to support our business growth.\\nJob Description\\nBe part of a fully distributed international team\\nJoin a fast growing startup that is sha...</td>\n",
       "      <td>https://sg.indeed.com/rc/clk?jk=d123f334db266492&amp;fccid=d6545ed47a8e6a25&amp;vjs=3</td>\n",
       "    </tr>\n",
       "    <tr>\n",
       "      <th>1</th>\n",
       "      <td>sa/avp, investment services (data centre of excellence - data analyst)</td>\n",
       "      <td>Full-time, Permanent</td>\n",
       "      <td>Temasek International Pte Ltd</td>\n",
       "      <td>N/A</td>\n",
       "      <td>Posted Today</td>\n",
       "      <td>The Investment Services Analytics Analyst will undertake research on relevant business topics/problems and conduct data driven analysis to draw out insights and synthesize findings with relevant stakeholders. In addition to the procured external datasets from our data vendors, there is a huge repository of data in the institutional databases that can be mined for insights. The Investment Services Analytics Analyst will engage various business functions in the Investment Services and Finance departments and provide pointers, where necessary, on data analytics with reference to business problems.\\n\\nResponsibilities :\\nThe Investment Services Analyst will work alongside the business units in Investment Services and Finance departments to analyse and find analytical solutions to business questions.\\nAs there are a wide range of data sets available in the systems stewarded by Investment Services and Finance business units, the Investment Services Analytics Analyst is expected to gain u...</td>\n",
       "      <td>https://sg.indeed.com/pagead/clk?mo=r&amp;ad=-6NYlbfkN0Bj-xBWVmzs7UIwFa-9Zm6MwNuQFkwLehssDYDaWnvIcTUgMX_84IeZ4HF_UABE9v6KoRUDg2vVc3nEHCdnJpD33mpeNobuGqywfPUDS1HbNLLC8bIrmWpaKMV_u373YMgL3KqnTiqPgaSCOvbZ7sqx8u6RBxjg_La-5EF_lZ0Wr73sxqVqxeGWVtltVnhTHBFuO61iQXwh_M48UZkE35oUbw9NKUaRpfqY4uwABIxbba7LwsXgt_lMMxLMZmh83sXk-YXIk4vv6jEIrJgoaRlKUil-DXkCOzZbPOmoVpQ_X7S4RMVDg39PDLokElWqlOEYxqVT29GXWoUdO55NnJVYhxBCJvSy8WzVY0cUXc4cc0dJ6x12vDUKQMphJhHO6akB9wU9RtBxgZ2R55nbEtEso2Q107u0JmiVNQurfqVrATZEYvCRawdnTMeXIYdhUuOAEXDlvvX4Pg7IDzvCI8oc4TqT1qrI-16qEsHl-EgXPQgbJt5HDsGcbLoZI0aqRX0ahfA1B4EsDqZ_pyW9sUYctm1K7hJEWJVEvqJAKfvfZNbsoDlsgz_pTepJ2nd-1xt8imZT0_TwgxwY7eGZ22gdnd5BRdWMdVs_0Xc6Eix0sIR3dxqjD6AlGK-U7n3EuhGIhwK7wCYQSsdX119OXkWmj1Q3X1tM00ZymzmcPS_fUQidFiihePWVFx-awBGkBT4xamcd8r9cdwysC4NtuR30ASrPN1ORVeanU3eqgn9ir1vYzIHHPAQ6KNf7-DF5fGUs0YpYJIwjzN9CpfCulqCtgk0koDODsrce_qPQXSBE6FHeb9Q4jzp_AFbLrivtE4msOrYniei2PgOFrQpjdMwo8-y40fIL0GrS8IjpmZq3uw==&amp;xkcb=SoA6-_M3SdeMAn2Xtp0KbzkdCdPP&amp;p=3&amp;fvj=0&amp;vjs=3</td>\n",
       "    </tr>\n",
       "    <tr>\n",
       "      <th>2</th>\n",
       "      <td>business analyst ( product/sales/data)</td>\n",
       "      <td>- Permanent</td>\n",
       "      <td>Volt</td>\n",
       "      <td>$5,000 - $6,000 a month</td>\n",
       "      <td>Posted Today</td>\n",
       "      <td>Location:\\nSingapore\\n\\nJob Type:\\nPermanent\\n\\nSalary:\\nS$5000 - S$6000 per month\\n\\nReference:\\nBBBH10708_1678085338\\n\\nContact:\\nDarren Ou\\n\\nEmail:\\nemail Darren\\n\\nDarren Ou\\nEmail Darren\\nBusiness Analyst\\n\\nYou will be responsible to support multiple business units and be a point of liaison, bridging the requirements between business units and clients.\\n\\nKey Accountabilities:\\n\\n\\n\\n\\n\\n\\nSupport in developing solutions to clients by applying the broad understanding of web/mobile technologies and SaaS platforms to solve real-world business problems\\nAssist/write the Statement-of-Work (SOW) and user stories.\\nPreparing Gantt chart.\\nEnsuring solutions stated in the Statement of Work are best practice and in line with client requirements\\nSupport the sales bid process by responding to RFI's &amp; RFP's\\nWorking closely with Sales and various teams for successful closure of the sales process\\nLiaising with Product Managers to provide feedback from clients about product requirement...</td>\n",
       "      <td>https://sg.indeed.com/rc/clk?jk=f867ad81d3183889&amp;fccid=350f919a1e6a54e1&amp;vjs=3</td>\n",
       "    </tr>\n",
       "    <tr>\n",
       "      <th>3</th>\n",
       "      <td>business analyst</td>\n",
       "      <td>Full-time</td>\n",
       "      <td>IBM</td>\n",
       "      <td>N/A</td>\n",
       "      <td>Posted Today</td>\n",
       "      <td>Introduction\\nIBM Application Consultants work directly with our clients on key initiatives. You will have the opportunity to build an in-depth understanding of their business issues and implement organizational strategies that drive adoption of change. We are looking for experts who can build credibility and trust with our clients and provide knowledge that addresses individual and unique business needs.\\n\\nYour Role and Responsibilities\\nAs a Business Analyst in IBM, you will:\\nAnalyse business needs, gaps and issues using Agile methodology\\nRecommend best possible solutions to address the problem\\nStakeholder management and engagement for both internal, client and industry stakeholders\\nOverall accountability to ensure high quality and timely solution delivery\\nUnderstand and translate customer needs into business and technology solutions, providing consultation on the customer digital journey and digital transformation\\nProvide implementation of design services through a range ...</td>\n",
       "      <td>https://sg.indeed.com/rc/clk?jk=e8faa131696dbe2b&amp;fccid=de71a49b535e21cb&amp;vjs=3</td>\n",
       "    </tr>\n",
       "    <tr>\n",
       "      <th>4</th>\n",
       "      <td>business analyst [agile] - j40375</td>\n",
       "      <td>- Permanent</td>\n",
       "      <td>ScienTec Consulting</td>\n",
       "      <td>Up to $8,000 a month</td>\n",
       "      <td>Posted Today</td>\n",
       "      <td>We are looking for Digital Business Analyst with AGILE practice !\\n\\nJob Description:\\nWorking Hours: Monday - Friday (office hour)\\nWorking Location: Central\\nSalary Package: Up to $8k (basic) + AWS\\n\\nJob Responsibilities:\\nElicit, scope and manage business requirements\\nApply appropriate human-centric tools and techniques, including plan, design and facilitate workshops, map service journeys, identify challenges and opportunities\\nPrioritise product backlog through rigorous information gathering and analysis with stakeholders, and contribute to the development of the Functional/ Design specifications\\nDevelop the business case and Tender Specifications evaluate and recommend digital solutions that best address the needs undertake sprint planning, write user stories and define acceptance criteria with stakeholders review testing and data conversion documents to verify that specifications are met drive smooth deployment,\\nAdoption and operations of the solution analyse impact of r...</td>\n",
       "      <td>https://sg.indeed.com/rc/clk?jk=9a787844c70abb41&amp;fccid=6f256d9c064eaeaf&amp;vjs=3</td>\n",
       "    </tr>\n",
       "    <tr>\n",
       "      <th>5</th>\n",
       "      <td>regional business analyst</td>\n",
       "      <td>Full-time</td>\n",
       "      <td>Samsung Electronics</td>\n",
       "      <td>N/A</td>\n",
       "      <td>Posted Today</td>\n",
       "      <td>Position Summary\\nSupport internal management decision-making by producing business performance analysis.\\nOptimize and efficiently manage internal policy &amp; procedure based on business accounting standards and business circumstance.\\nRole and Responsibilities\\nAggregate large data sets from subsidiaries across Southeast Asia to create sales &amp; profit, overhead reports etc.\\nMonitor financial performance, analyse profitability, identify cost drivers and explain variances from rolling forecasts, management plan and past years\\nExtract insight from reports, generate commentaries and create PowerPoint Presentations for Management reporting\\nActively liaise with subsidiary teams and regional product managers to uncover P&amp;L variances\\nManage end-to-end regional marketing expense process from annual budgeting, project budget, vendor selection, contract review to payment approvals\\nDevelop and implement internal key controls aligned with HQ guidelines for regional marketing expense planning...</td>\n",
       "      <td>https://sg.indeed.com/rc/clk?jk=a9dd74ff411ea9ae&amp;fccid=da3c7fed78dd1607&amp;vjs=3</td>\n",
       "    </tr>\n",
       "    <tr>\n",
       "      <th>6</th>\n",
       "      <td>new* 1 year contract business development analyst</td>\n",
       "      <td>- Full-time, Contract</td>\n",
       "      <td>Ambition</td>\n",
       "      <td>$5,000 - $7,000 a month</td>\n",
       "      <td>Posted Today</td>\n",
       "      <td>Job Duties:\\nProvide Sales support to ensure the timely and efficient responses to client inquiries\\nParticipate in client meetings and assist with business development opportunities\\nAssist to prepare and collate slides/reports/pitchbooks for clients\\nLiaise with internal stakeholders to meet and address client deliverables\\nAssist with strategic business planning and business development initiatives\\nUpdating of databases and client contact details\\nOther ad hoc duties as assigned\\nJob requirements:\\nBachelor's degree in Business or Finance related discipline\\nAt least 3 years' of Sales Support/Business Development experience in the investment management industry\\nHighly motivated with strong written and verbal communication skills\\nStrong analytical skills\\nSound knowledge and passionate about investments\\nAnalytics background with Tableau, Python, etc. would be advantageous\\nMarket data services knowledge: Reuters, Bloomberg, eVestment, etc. would be advantageous\\nExcellent ski...</td>\n",
       "      <td>https://sg.indeed.com/pagead/clk?mo=r&amp;ad=-6NYlbfkN0Bj-xBWVmzs7UIwFa-9Zm6MwNuQFkwLehssDYDaWnvIcTUgMX_84IeZ4HF_UABE9v6hzZ23B2ZOeRLuXLeSOk5OBTzmoK7JNaUKkswZq999J200DGBtlQzv7PyTueT6H4eGmnyl4vmlzwhLiQDzQY4klHlUbjK94PQ9reZDCy5-hGHcIwskY8N9Y_hMQ_bXB663eOuDiCpidqkVJmOyEfNlF1Kuy8G6aAJawWjg6gWYKpJ_QalLWcEhxcHRa4gEKIaD52QoRqfThTkPH9MqpF4-UQp-5KlLjsZYa_9yI1mTu9aWdwW7oOCW9t2hyBUIMDQmPNb7kV0Z6mYzU8pdH6Rv5vSzLcnst2QQNTmBLdn4GzbRnmi_NkDvTjjotYRgYDqQagX_auZSjcoJtI2nrc7avK_iN524N11xGefLLinEFdBZhERLchiO-YxtjRhzg1GajCt0vwk91XDPy7rSSkle-hsBxyAYGfxfTrrF8kHS8szJOlOhtOF8-KPjbwN8Eb7d4JxyDSa62M33iKQBTBsI8HLd-0Tg0nmPMAmdYuUtyeu4vJrx6T1kDC3KCMTMRELHDn28oKNFRpQ3WGg0nNLtXjIuGdSZ70GJiRXdq73zQAAdRDvfIZoudNp6Vl6bndpVYKi2P_cI52B0omND2pM45eqOb-oTs2yxuo4UzO297AdmPBnlTFOrL7AAeZy-Ya0b4U03zf-A6BqQHu7kP1Z-oX3eejDs9Ln8Q0jpPhtJq0OcLdMEFrtr59uvO01QQbNii3s_kaqPHmzFzfLxabb-unIJHfzKIckHSW4F7h0wJXVrj81OYxHvbw3ojeHibkh3W85c9rFB3Q==&amp;xkcb=SoAJ-_M3SdefsYW6dJ0LbzkdCdPP&amp;p=11&amp;fvj=0&amp;vjs=3</td>\n",
       "    </tr>\n",
       "    <tr>\n",
       "      <th>7</th>\n",
       "      <td>business analyst ( product/sales/data)</td>\n",
       "      <td>- Permanent</td>\n",
       "      <td>Volt Singapore</td>\n",
       "      <td>$5,000 - $6,000 a month</td>\n",
       "      <td>Posted Today</td>\n",
       "      <td>Business Analyst\\n\\nYou will be responsible to support multiple business units and be a point of liaison, bridging the requirements between business units and clients.\\n\\nKey Accountabilities:\\n\\n\\n\\n\\n\\n\\nSupport in developing solutions to clients by applying the broad understanding of web/mobile technologies and SaaS platforms to solve real-world business problems\\nAssist/write the Statement-of-Work (SOW) and user stories.\\nPreparing Gantt chart.\\nEnsuring solutions stated in the Statement of Work are best practice and in line with client requirements\\nSupport the sales bid process by responding to RFI's &amp; RFP's\\nWorking closely with Sales and various teams for successful closure of the sales process\\nLiaising with Product Managers to provide feedback from clients about product requirements\\nLiaising with Product Managers and Product Engineers to gain an in-depth knowledge of our products and services that you can relate to customers\\nKeeping abreast of market trends and product ...</td>\n",
       "      <td>https://sg.indeed.com/rc/clk?jk=9a310daf457e9e9a&amp;fccid=a31560d81f93e894&amp;vjs=3</td>\n",
       "    </tr>\n",
       "  </tbody>\n",
       "</table>\n",
       "</div>"
      ],
      "text/plain": [
       "                                                                    title  \\\n",
       "0                                                financial analyst (saas)   \n",
       "1  sa/avp, investment services (data centre of excellence - data analyst)   \n",
       "2                                  business analyst ( product/sales/data)   \n",
       "3                                                        business analyst   \n",
       "4                                       business analyst [agile] - j40375   \n",
       "5                                               regional business analyst   \n",
       "6                       new* 1 year contract business development analyst   \n",
       "7                                  business analyst ( product/sales/data)   \n",
       "\n",
       "                   Etype                        company  \\\n",
       "0            - Permanent               Snaphunt Pte Ltd   \n",
       "1   Full-time, Permanent  Temasek International Pte Ltd   \n",
       "2            - Permanent                           Volt   \n",
       "3              Full-time                            IBM   \n",
       "4            - Permanent            ScienTec Consulting   \n",
       "5              Full-time            Samsung Electronics   \n",
       "6  - Full-time, Contract                       Ambition   \n",
       "7            - Permanent                 Volt Singapore   \n",
       "\n",
       "                    salary      postDate  \\\n",
       "0  $2,000 - $4,000 a month  Posted today   \n",
       "1                      N/A  Posted Today   \n",
       "2  $5,000 - $6,000 a month  Posted Today   \n",
       "3                      N/A  Posted Today   \n",
       "4     Up to $8,000 a month  Posted Today   \n",
       "5                      N/A  Posted Today   \n",
       "6  $5,000 - $7,000 a month  Posted Today   \n",
       "7  $5,000 - $6,000 a month  Posted Today   \n",
       "\n",
       "                                                                                                                                                                                                                                                                                                                                                                                                                                                                                                                                                                                                                                                                                                                                                                                                                                                                                                                                                                                                                        jobDescriptionText  \\\n",
       "0  Company\\nSnaphunt Pte Ltd\\nsnaphunt.com\\nDesignation\\nFinancial Analyst (SaaS)\\nDate Listed\\n07 Mar 2023\\nJob Type\\nEntry Level / Junior Executive\\nFull/Perm\\nJob Period\\nImmediate Start, Permanent\\nProfession\\nAccounting / Auditing / Taxation\\nIndustry\\nComputer and IT\\nLocation Name\\nSingapore\\nAllowance / Remuneration\\n$2,000 - 4,000 monthly\\nCompany Profile\\nSnaphunt is shaping how global employers hire in the new world of remote work. With Snaphunt, employers can easily build global teams by finding, engaging & hiring the best talent for their business- anywhere in the world.\\nWe have over 14,000 employers and 3 million professionals on our platform and are backed by top venture capitalists. We operate via a fully remote/distributed international team and are looking to hire ambitious, independent problem solvers across multiple functions to support our business growth.\\nJob Description\\nBe part of a fully distributed international team\\nJoin a fast growing startup that is sha...   \n",
       "1  The Investment Services Analytics Analyst will undertake research on relevant business topics/problems and conduct data driven analysis to draw out insights and synthesize findings with relevant stakeholders. In addition to the procured external datasets from our data vendors, there is a huge repository of data in the institutional databases that can be mined for insights. The Investment Services Analytics Analyst will engage various business functions in the Investment Services and Finance departments and provide pointers, where necessary, on data analytics with reference to business problems.\\n\\nResponsibilities :\\nThe Investment Services Analyst will work alongside the business units in Investment Services and Finance departments to analyse and find analytical solutions to business questions.\\nAs there are a wide range of data sets available in the systems stewarded by Investment Services and Finance business units, the Investment Services Analytics Analyst is expected to gain u...   \n",
       "2  Location:\\nSingapore\\n\\nJob Type:\\nPermanent\\n\\nSalary:\\nS$5000 - S$6000 per month\\n\\nReference:\\nBBBH10708_1678085338\\n\\nContact:\\nDarren Ou\\n\\nEmail:\\nemail Darren\\n\\nDarren Ou\\nEmail Darren\\nBusiness Analyst\\n\\nYou will be responsible to support multiple business units and be a point of liaison, bridging the requirements between business units and clients.\\n\\nKey Accountabilities:\\n\\n\\n\\n\\n\\n\\nSupport in developing solutions to clients by applying the broad understanding of web/mobile technologies and SaaS platforms to solve real-world business problems\\nAssist/write the Statement-of-Work (SOW) and user stories.\\nPreparing Gantt chart.\\nEnsuring solutions stated in the Statement of Work are best practice and in line with client requirements\\nSupport the sales bid process by responding to RFI's & RFP's\\nWorking closely with Sales and various teams for successful closure of the sales process\\nLiaising with Product Managers to provide feedback from clients about product requirement...   \n",
       "3  Introduction\\nIBM Application Consultants work directly with our clients on key initiatives. You will have the opportunity to build an in-depth understanding of their business issues and implement organizational strategies that drive adoption of change. We are looking for experts who can build credibility and trust with our clients and provide knowledge that addresses individual and unique business needs.\\n\\nYour Role and Responsibilities\\nAs a Business Analyst in IBM, you will:\\nAnalyse business needs, gaps and issues using Agile methodology\\nRecommend best possible solutions to address the problem\\nStakeholder management and engagement for both internal, client and industry stakeholders\\nOverall accountability to ensure high quality and timely solution delivery\\nUnderstand and translate customer needs into business and technology solutions, providing consultation on the customer digital journey and digital transformation\\nProvide implementation of design services through a range ...   \n",
       "4  We are looking for Digital Business Analyst with AGILE practice !\\n\\nJob Description:\\nWorking Hours: Monday - Friday (office hour)\\nWorking Location: Central\\nSalary Package: Up to $8k (basic) + AWS\\n\\nJob Responsibilities:\\nElicit, scope and manage business requirements\\nApply appropriate human-centric tools and techniques, including plan, design and facilitate workshops, map service journeys, identify challenges and opportunities\\nPrioritise product backlog through rigorous information gathering and analysis with stakeholders, and contribute to the development of the Functional/ Design specifications\\nDevelop the business case and Tender Specifications evaluate and recommend digital solutions that best address the needs undertake sprint planning, write user stories and define acceptance criteria with stakeholders review testing and data conversion documents to verify that specifications are met drive smooth deployment,\\nAdoption and operations of the solution analyse impact of r...   \n",
       "5  Position Summary\\nSupport internal management decision-making by producing business performance analysis.\\nOptimize and efficiently manage internal policy & procedure based on business accounting standards and business circumstance.\\nRole and Responsibilities\\nAggregate large data sets from subsidiaries across Southeast Asia to create sales & profit, overhead reports etc.\\nMonitor financial performance, analyse profitability, identify cost drivers and explain variances from rolling forecasts, management plan and past years\\nExtract insight from reports, generate commentaries and create PowerPoint Presentations for Management reporting\\nActively liaise with subsidiary teams and regional product managers to uncover P&L variances\\nManage end-to-end regional marketing expense process from annual budgeting, project budget, vendor selection, contract review to payment approvals\\nDevelop and implement internal key controls aligned with HQ guidelines for regional marketing expense planning...   \n",
       "6  Job Duties:\\nProvide Sales support to ensure the timely and efficient responses to client inquiries\\nParticipate in client meetings and assist with business development opportunities\\nAssist to prepare and collate slides/reports/pitchbooks for clients\\nLiaise with internal stakeholders to meet and address client deliverables\\nAssist with strategic business planning and business development initiatives\\nUpdating of databases and client contact details\\nOther ad hoc duties as assigned\\nJob requirements:\\nBachelor's degree in Business or Finance related discipline\\nAt least 3 years' of Sales Support/Business Development experience in the investment management industry\\nHighly motivated with strong written and verbal communication skills\\nStrong analytical skills\\nSound knowledge and passionate about investments\\nAnalytics background with Tableau, Python, etc. would be advantageous\\nMarket data services knowledge: Reuters, Bloomberg, eVestment, etc. would be advantageous\\nExcellent ski...   \n",
       "7  Business Analyst\\n\\nYou will be responsible to support multiple business units and be a point of liaison, bridging the requirements between business units and clients.\\n\\nKey Accountabilities:\\n\\n\\n\\n\\n\\n\\nSupport in developing solutions to clients by applying the broad understanding of web/mobile technologies and SaaS platforms to solve real-world business problems\\nAssist/write the Statement-of-Work (SOW) and user stories.\\nPreparing Gantt chart.\\nEnsuring solutions stated in the Statement of Work are best practice and in line with client requirements\\nSupport the sales bid process by responding to RFI's & RFP's\\nWorking closely with Sales and various teams for successful closure of the sales process\\nLiaising with Product Managers to provide feedback from clients about product requirements\\nLiaising with Product Managers and Product Engineers to gain an in-depth knowledge of our products and services that you can relate to customers\\nKeeping abreast of market trends and product ...   \n",
       "\n",
       "                                                                                                                                                                                                                                                                                                                                                                                                                                                                                                                                                                                                                                                                                                                                                                                                                                                                                                                                                                                                                  link  \n",
       "0                                                                                                                                                                                                                                                                                                                                                                                                                                                                                                                                                                                                                                                                                                                                                                                                                                                                                                                                        https://sg.indeed.com/rc/clk?jk=d123f334db266492&fccid=d6545ed47a8e6a25&vjs=3  \n",
       "1  https://sg.indeed.com/pagead/clk?mo=r&ad=-6NYlbfkN0Bj-xBWVmzs7UIwFa-9Zm6MwNuQFkwLehssDYDaWnvIcTUgMX_84IeZ4HF_UABE9v6KoRUDg2vVc3nEHCdnJpD33mpeNobuGqywfPUDS1HbNLLC8bIrmWpaKMV_u373YMgL3KqnTiqPgaSCOvbZ7sqx8u6RBxjg_La-5EF_lZ0Wr73sxqVqxeGWVtltVnhTHBFuO61iQXwh_M48UZkE35oUbw9NKUaRpfqY4uwABIxbba7LwsXgt_lMMxLMZmh83sXk-YXIk4vv6jEIrJgoaRlKUil-DXkCOzZbPOmoVpQ_X7S4RMVDg39PDLokElWqlOEYxqVT29GXWoUdO55NnJVYhxBCJvSy8WzVY0cUXc4cc0dJ6x12vDUKQMphJhHO6akB9wU9RtBxgZ2R55nbEtEso2Q107u0JmiVNQurfqVrATZEYvCRawdnTMeXIYdhUuOAEXDlvvX4Pg7IDzvCI8oc4TqT1qrI-16qEsHl-EgXPQgbJt5HDsGcbLoZI0aqRX0ahfA1B4EsDqZ_pyW9sUYctm1K7hJEWJVEvqJAKfvfZNbsoDlsgz_pTepJ2nd-1xt8imZT0_TwgxwY7eGZ22gdnd5BRdWMdVs_0Xc6Eix0sIR3dxqjD6AlGK-U7n3EuhGIhwK7wCYQSsdX119OXkWmj1Q3X1tM00ZymzmcPS_fUQidFiihePWVFx-awBGkBT4xamcd8r9cdwysC4NtuR30ASrPN1ORVeanU3eqgn9ir1vYzIHHPAQ6KNf7-DF5fGUs0YpYJIwjzN9CpfCulqCtgk0koDODsrce_qPQXSBE6FHeb9Q4jzp_AFbLrivtE4msOrYniei2PgOFrQpjdMwo8-y40fIL0GrS8IjpmZq3uw==&xkcb=SoA6-_M3SdeMAn2Xtp0KbzkdCdPP&p=3&fvj=0&vjs=3  \n",
       "2                                                                                                                                                                                                                                                                                                                                                                                                                                                                                                                                                                                                                                                                                                                                                                                                                                                                                                                                        https://sg.indeed.com/rc/clk?jk=f867ad81d3183889&fccid=350f919a1e6a54e1&vjs=3  \n",
       "3                                                                                                                                                                                                                                                                                                                                                                                                                                                                                                                                                                                                                                                                                                                                                                                                                                                                                                                                        https://sg.indeed.com/rc/clk?jk=e8faa131696dbe2b&fccid=de71a49b535e21cb&vjs=3  \n",
       "4                                                                                                                                                                                                                                                                                                                                                                                                                                                                                                                                                                                                                                                                                                                                                                                                                                                                                                                                        https://sg.indeed.com/rc/clk?jk=9a787844c70abb41&fccid=6f256d9c064eaeaf&vjs=3  \n",
       "5                                                                                                                                                                                                                                                                                                                                                                                                                                                                                                                                                                                                                                                                                                                                                                                                                                                                                                                                        https://sg.indeed.com/rc/clk?jk=a9dd74ff411ea9ae&fccid=da3c7fed78dd1607&vjs=3  \n",
       "6                                 https://sg.indeed.com/pagead/clk?mo=r&ad=-6NYlbfkN0Bj-xBWVmzs7UIwFa-9Zm6MwNuQFkwLehssDYDaWnvIcTUgMX_84IeZ4HF_UABE9v6hzZ23B2ZOeRLuXLeSOk5OBTzmoK7JNaUKkswZq999J200DGBtlQzv7PyTueT6H4eGmnyl4vmlzwhLiQDzQY4klHlUbjK94PQ9reZDCy5-hGHcIwskY8N9Y_hMQ_bXB663eOuDiCpidqkVJmOyEfNlF1Kuy8G6aAJawWjg6gWYKpJ_QalLWcEhxcHRa4gEKIaD52QoRqfThTkPH9MqpF4-UQp-5KlLjsZYa_9yI1mTu9aWdwW7oOCW9t2hyBUIMDQmPNb7kV0Z6mYzU8pdH6Rv5vSzLcnst2QQNTmBLdn4GzbRnmi_NkDvTjjotYRgYDqQagX_auZSjcoJtI2nrc7avK_iN524N11xGefLLinEFdBZhERLchiO-YxtjRhzg1GajCt0vwk91XDPy7rSSkle-hsBxyAYGfxfTrrF8kHS8szJOlOhtOF8-KPjbwN8Eb7d4JxyDSa62M33iKQBTBsI8HLd-0Tg0nmPMAmdYuUtyeu4vJrx6T1kDC3KCMTMRELHDn28oKNFRpQ3WGg0nNLtXjIuGdSZ70GJiRXdq73zQAAdRDvfIZoudNp6Vl6bndpVYKi2P_cI52B0omND2pM45eqOb-oTs2yxuo4UzO297AdmPBnlTFOrL7AAeZy-Ya0b4U03zf-A6BqQHu7kP1Z-oX3eejDs9Ln8Q0jpPhtJq0OcLdMEFrtr59uvO01QQbNii3s_kaqPHmzFzfLxabb-unIJHfzKIckHSW4F7h0wJXVrj81OYxHvbw3ojeHibkh3W85c9rFB3Q==&xkcb=SoAJ-_M3SdefsYW6dJ0LbzkdCdPP&p=11&fvj=0&vjs=3  \n",
       "7                                                                                                                                                                                                                                                                                                                                                                                                                                                                                                                                                                                                                                                                                                                                                                                                                                                                                                                                        https://sg.indeed.com/rc/clk?jk=9a310daf457e9e9a&fccid=a31560d81f93e894&vjs=3  "
      ]
     },
     "execution_count": 13,
     "metadata": {},
     "output_type": "execute_result"
    }
   ],
   "source": [
    "pd.set_option('display.max_colwidth', 1000)\n",
    "pd.set_option('display.max_rows', 500)\n",
    "df3=df2.reset_index(drop=True)\n",
    "df3 = df3[['title','Etype','company','salary','postDate','jobDescriptionText','link']]\n",
    "print(len(df3))\n",
    "df3"
   ]
  }
 ],
 "metadata": {
  "kernelspec": {
   "display_name": "Python 3",
   "language": "python",
   "name": "python3"
  },
  "language_info": {
   "codemirror_mode": {
    "name": "ipython",
    "version": 3
   },
   "file_extension": ".py",
   "mimetype": "text/x-python",
   "name": "python",
   "nbconvert_exporter": "python",
   "pygments_lexer": "ipython3",
   "version": "3.6.8"
  }
 },
 "nbformat": 4,
 "nbformat_minor": 5
}
